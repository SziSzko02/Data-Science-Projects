{
    "cells": [
        {
            "metadata": {
                "collapsed": true
            },
            "cell_type": "markdown",
            "source": "# My Jupyter Notebook on IBM Watson Studio"
        },
        {
            "metadata": {},
            "cell_type": "markdown",
            "source": "My name is **Szilard Fazakas** <br>\nI would like to become a Data scientist"
        },
        {
            "metadata": {},
            "cell_type": "markdown",
            "source": "*I am interested in data science because it's amazing, helping people, creating new ways to understand our envirement and inproving technology.*"
        },
        {
            "metadata": {},
            "cell_type": "markdown",
            "source": "### I will introduce some basic math code: <br>\n### Multiplying <br>\n### Adding <br>\n### Dividing"
        },
        {
            "metadata": {},
            "cell_type": "code",
            "source": "5*6",
            "execution_count": 1,
            "outputs": [
                {
                    "output_type": "execute_result",
                    "execution_count": 1,
                    "data": {
                        "text/plain": "30"
                    },
                    "metadata": {}
                }
            ]
        },
        {
            "metadata": {},
            "cell_type": "code",
            "source": "5+6",
            "execution_count": 2,
            "outputs": [
                {
                    "output_type": "execute_result",
                    "execution_count": 2,
                    "data": {
                        "text/plain": "11"
                    },
                    "metadata": {}
                }
            ]
        },
        {
            "metadata": {},
            "cell_type": "code",
            "source": "30//5",
            "execution_count": 3,
            "outputs": [
                {
                    "output_type": "execute_result",
                    "execution_count": 3,
                    "data": {
                        "text/plain": "6"
                    },
                    "metadata": {}
                }
            ]
        },
        {
            "metadata": {},
            "cell_type": "code",
            "source": "a = 5\nb = 6\nc = 10\n\nprint((a+b)*a//c)",
            "execution_count": 5,
            "outputs": [
                {
                    "output_type": "stream",
                    "text": "5\n",
                    "name": "stdout"
                }
            ]
        },
        {
            "metadata": {},
            "cell_type": "markdown",
            "source": "#### In Data Science there are many tools and environment to use: <br>\n* Anaconda\n* Watson Studio\n* Jupyter Notebook"
        },
        {
            "metadata": {},
            "cell_type": "markdown",
            "source": "#### There are some popular language: <br>\n1. Python\n2. R\n3. SQL\n4. Java\n5. Julia"
        },
        {
            "metadata": {},
            "cell_type": "markdown",
            "source": "| Data science | Data Analyst |\n|--------------|--------------|\n|Creating new ways|Analysing existing data|\n|Creating ML models|Presenting collected data|\n|Finding answers|Suggesting solution|"
        },
        {
            "metadata": {},
            "cell_type": "code",
            "source": "",
            "execution_count": null,
            "outputs": []
        }
    ],
    "metadata": {
        "kernelspec": {
            "name": "python3",
            "display_name": "Python 3.10",
            "language": "python"
        },
        "language_info": {
            "name": "python",
            "version": "3.10.9",
            "mimetype": "text/x-python",
            "codemirror_mode": {
                "name": "ipython",
                "version": 3
            },
            "pygments_lexer": "ipython3",
            "nbconvert_exporter": "python",
            "file_extension": ".py"
        }
    },
    "nbformat": 4,
    "nbformat_minor": 1
}